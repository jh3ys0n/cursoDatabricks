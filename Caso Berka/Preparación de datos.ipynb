{
 "cells": [
  {
   "cell_type": "code",
   "execution_count": 0,
   "metadata": {
    "application/vnd.databricks.v1+cell": {
     "cellMetadata": {},
     "inputWidgets": {},
     "nuid": "ebc2c94f-86f5-4cbb-ac4b-cc015ec102bf",
     "showTitle": false,
     "title": ""
    }
   },
   "outputs": [],
   "source": [
    "from pyhive import hive\n",
    "import pandas as pd\n",
    "\n",
    "# Configuración de la conexión a Hive\n",
    "host = \"192.168.85.157\"\n",
    "port = 10000  # El puerto predeterminado para Hive es 10000\n",
    "username = \"curso\"\n",
    "database = \"default\"\n",
    "\n",
    "# Crear la conexión\n",
    "conn = hive.Connection(host=host, port=port, username=username, database=database)\n",
    "\n",
    "# Ejecutar una consulta SQL en Hive\n",
    "query = \"\"\"SELECT *\n",
    "FROM \n",
    "  account  a\n",
    " where a.frequency=\"POPLATEK MESICNE\"\n",
    "\"\"\"\n",
    "df2 = pd.read_sql(query, conn)\n",
    "\n",
    "# Cerrar la conexión\n",
    "conn.close()\n"
   ]
  },
  {
   "cell_type": "code",
   "execution_count": 0,
   "metadata": {
    "application/vnd.databricks.v1+cell": {
     "cellMetadata": {},
     "inputWidgets": {},
     "nuid": "b8a08cef-ef10-48c3-b767-9aaf4fd42909",
     "showTitle": false,
     "title": ""
    },
    "scrolled": true
   },
   "outputs": [],
   "source": [
    "df2.head()"
   ]
  },
  {
   "cell_type": "code",
   "execution_count": 0,
   "metadata": {
    "application/vnd.databricks.v1+cell": {
     "cellMetadata": {},
     "inputWidgets": {},
     "nuid": "5257ac08-7be8-40ce-a86b-2c9249058bfb",
     "showTitle": false,
     "title": ""
    }
   },
   "outputs": [],
   "source": [
    "df.describe()"
   ]
  },
  {
   "cell_type": "markdown",
   "metadata": {
    "application/vnd.databricks.v1+cell": {
     "cellMetadata": {},
     "inputWidgets": {},
     "nuid": "84b870ff-42ec-436a-8870-6a29cb1a2b52",
     "showTitle": false,
     "title": ""
    }
   },
   "source": [
    "###  Univariado"
   ]
  },
  {
   "cell_type": "markdown",
   "metadata": {
    "application/vnd.databricks.v1+cell": {
     "cellMetadata": {},
     "inputWidgets": {},
     "nuid": "ca26e3e8-45d8-4e31-ac38-faed2c96a00f",
     "showTitle": false,
     "title": ""
    }
   },
   "source": [
    "Las variables son:\n",
    "- status, es una variable cualitativa \n",
    "- frequency, es una variable cualitativa\n",
    "- type, es una variable cualitativa\n",
    "- amount, es una variable cuantitativa discreta.\n",
    "- payments, es una variable cuantitativa discreta."
   ]
  },
  {
   "cell_type": "markdown",
   "metadata": {
    "application/vnd.databricks.v1+cell": {
     "cellMetadata": {},
     "inputWidgets": {},
     "nuid": "5cf58ca9-ae00-4075-b52e-d77134a14233",
     "showTitle": false,
     "title": ""
    }
   },
   "source": [
    "media"
   ]
  },
  {
   "cell_type": "code",
   "execution_count": 0,
   "metadata": {
    "application/vnd.databricks.v1+cell": {
     "cellMetadata": {},
     "inputWidgets": {},
     "nuid": "c343eb59-b083-4f51-a17e-aab903f965e9",
     "showTitle": false,
     "title": ""
    }
   },
   "outputs": [],
   "source": [
    "df['l.amount'].mean()"
   ]
  },
  {
   "cell_type": "markdown",
   "metadata": {
    "application/vnd.databricks.v1+cell": {
     "cellMetadata": {},
     "inputWidgets": {},
     "nuid": "2032c5bc-1060-4167-92eb-f1c654173c61",
     "showTitle": false,
     "title": ""
    }
   },
   "source": [
    "mediana"
   ]
  },
  {
   "cell_type": "code",
   "execution_count": 0,
   "metadata": {
    "application/vnd.databricks.v1+cell": {
     "cellMetadata": {},
     "inputWidgets": {},
     "nuid": "1ab8c95a-fd4a-4481-a905-b8cb6e871540",
     "showTitle": false,
     "title": ""
    }
   },
   "outputs": [],
   "source": [
    "df['l.amount'].median()"
   ]
  },
  {
   "cell_type": "markdown",
   "metadata": {
    "application/vnd.databricks.v1+cell": {
     "cellMetadata": {},
     "inputWidgets": {},
     "nuid": "234f6938-6221-4973-b553-c12972f08484",
     "showTitle": false,
     "title": ""
    }
   },
   "source": [
    "moda"
   ]
  },
  {
   "cell_type": "code",
   "execution_count": 0,
   "metadata": {
    "application/vnd.databricks.v1+cell": {
     "cellMetadata": {},
     "inputWidgets": {},
     "nuid": "8790a6e3-9397-424c-a3de-24fe210f53c3",
     "showTitle": false,
     "title": ""
    }
   },
   "outputs": [],
   "source": [
    "df['l.amount'].mode()"
   ]
  },
  {
   "cell_type": "markdown",
   "metadata": {
    "application/vnd.databricks.v1+cell": {
     "cellMetadata": {},
     "inputWidgets": {},
     "nuid": "1ecddbad-4bad-4dbb-8900-fe0488525897",
     "showTitle": false,
     "title": ""
    }
   },
   "source": [
    "- medidas de dispersion "
   ]
  },
  {
   "cell_type": "code",
   "execution_count": 0,
   "metadata": {
    "application/vnd.databricks.v1+cell": {
     "cellMetadata": {},
     "inputWidgets": {},
     "nuid": "992c5088-7755-42a1-a0f9-404bbb152254",
     "showTitle": false,
     "title": ""
    }
   },
   "outputs": [],
   "source": [
    "maximo = df['l.amount'].max()"
   ]
  },
  {
   "cell_type": "code",
   "execution_count": 0,
   "metadata": {
    "application/vnd.databricks.v1+cell": {
     "cellMetadata": {},
     "inputWidgets": {},
     "nuid": "2e3595e9-543e-42d8-b0a9-6fd8f35f1041",
     "showTitle": false,
     "title": ""
    }
   },
   "outputs": [],
   "source": [
    "minimo = df['l.amount'].min()"
   ]
  },
  {
   "cell_type": "code",
   "execution_count": 0,
   "metadata": {
    "application/vnd.databricks.v1+cell": {
     "cellMetadata": {},
     "inputWidgets": {},
     "nuid": "933837f6-6fc6-4d68-a895-4ccf1583f74a",
     "showTitle": false,
     "title": ""
    }
   },
   "outputs": [],
   "source": [
    "rango = maximo - minimo"
   ]
  },
  {
   "cell_type": "code",
   "execution_count": 0,
   "metadata": {
    "application/vnd.databricks.v1+cell": {
     "cellMetadata": {},
     "inputWidgets": {},
     "nuid": "e7d64ec8-4bf1-40ef-aaa5-b0a44c3bd701",
     "showTitle": false,
     "title": ""
    }
   },
   "outputs": [],
   "source": [
    "rango"
   ]
  },
  {
   "cell_type": "markdown",
   "metadata": {
    "application/vnd.databricks.v1+cell": {
     "cellMetadata": {},
     "inputWidgets": {},
     "nuid": "0b143f3c-0ed1-4719-8968-0d8a0348ae0c",
     "showTitle": false,
     "title": ""
    }
   },
   "source": [
    "- cuartiles"
   ]
  },
  {
   "cell_type": "code",
   "execution_count": 0,
   "metadata": {
    "application/vnd.databricks.v1+cell": {
     "cellMetadata": {},
     "inputWidgets": {},
     "nuid": "d196a6e4-98cb-401d-b2d0-ab1ecb8fcdd3",
     "showTitle": false,
     "title": ""
    }
   },
   "outputs": [],
   "source": [
    "import numpy as np\n",
    "q1, q3 = np.percentile(df['l.amount'], [25,75])"
   ]
  },
  {
   "cell_type": "code",
   "execution_count": 0,
   "metadata": {
    "application/vnd.databricks.v1+cell": {
     "cellMetadata": {},
     "inputWidgets": {},
     "nuid": "7f6792f3-2110-4a47-bb01-bf038dd25256",
     "showTitle": false,
     "title": ""
    }
   },
   "outputs": [],
   "source": [
    "q1"
   ]
  },
  {
   "cell_type": "code",
   "execution_count": 0,
   "metadata": {
    "application/vnd.databricks.v1+cell": {
     "cellMetadata": {},
     "inputWidgets": {},
     "nuid": "9f2e673b-1623-4fe6-8491-8f020a87d825",
     "showTitle": false,
     "title": ""
    }
   },
   "outputs": [],
   "source": [
    "q3"
   ]
  },
  {
   "cell_type": "markdown",
   "metadata": {
    "application/vnd.databricks.v1+cell": {
     "cellMetadata": {},
     "inputWidgets": {},
     "nuid": "9d59e49b-14e8-4978-b518-0ab8c1c20ab5",
     "showTitle": false,
     "title": ""
    }
   },
   "source": [
    "- rango intercuartilico"
   ]
  },
  {
   "cell_type": "code",
   "execution_count": 0,
   "metadata": {
    "application/vnd.databricks.v1+cell": {
     "cellMetadata": {},
     "inputWidgets": {},
     "nuid": "5e933a1a-bd11-4b3f-b785-f24c1cd72729",
     "showTitle": false,
     "title": ""
    }
   },
   "outputs": [],
   "source": [
    "RIC = q3-q1"
   ]
  },
  {
   "cell_type": "code",
   "execution_count": 0,
   "metadata": {
    "application/vnd.databricks.v1+cell": {
     "cellMetadata": {},
     "inputWidgets": {},
     "nuid": "ebecab9a-b80a-4a5c-bfd6-148494f6536a",
     "showTitle": false,
     "title": ""
    }
   },
   "outputs": [],
   "source": [
    "RIC"
   ]
  },
  {
   "cell_type": "markdown",
   "metadata": {
    "application/vnd.databricks.v1+cell": {
     "cellMetadata": {},
     "inputWidgets": {},
     "nuid": "d33180f7-f6e2-4b14-8729-c092142df4c3",
     "showTitle": false,
     "title": ""
    }
   },
   "source": [
    "- varianza"
   ]
  },
  {
   "cell_type": "code",
   "execution_count": 0,
   "metadata": {
    "application/vnd.databricks.v1+cell": {
     "cellMetadata": {},
     "inputWidgets": {},
     "nuid": "7ff53e4c-d180-434b-bbce-b8bab60e59bb",
     "showTitle": false,
     "title": ""
    }
   },
   "outputs": [],
   "source": [
    "df['l.amount'].var()"
   ]
  },
  {
   "cell_type": "markdown",
   "metadata": {
    "application/vnd.databricks.v1+cell": {
     "cellMetadata": {},
     "inputWidgets": {},
     "nuid": "ac9868a5-993d-40c4-be3a-1ad2c289a7ff",
     "showTitle": false,
     "title": ""
    }
   },
   "source": [
    "- desviacion estandar"
   ]
  },
  {
   "cell_type": "code",
   "execution_count": 0,
   "metadata": {
    "application/vnd.databricks.v1+cell": {
     "cellMetadata": {},
     "inputWidgets": {},
     "nuid": "017cd18d-91fb-48cb-bfe3-df77398ff585",
     "showTitle": false,
     "title": ""
    }
   },
   "outputs": [],
   "source": [
    "df['l.amount'].std()"
   ]
  },
  {
   "cell_type": "markdown",
   "metadata": {
    "application/vnd.databricks.v1+cell": {
     "cellMetadata": {},
     "inputWidgets": {},
     "nuid": "049b2323-e8f0-46ae-a295-f90de4448287",
     "showTitle": false,
     "title": ""
    }
   },
   "source": [
    "- grafico Box Plot"
   ]
  },
  {
   "cell_type": "code",
   "execution_count": 0,
   "metadata": {
    "application/vnd.databricks.v1+cell": {
     "cellMetadata": {},
     "inputWidgets": {},
     "nuid": "478e1c25-8384-4d60-96a8-74755a28be15",
     "showTitle": false,
     "title": ""
    }
   },
   "outputs": [],
   "source": [
    "import matplotlib.pyplot as plt\n",
    "df.boxplot('l.amount')\n",
    "plt.show()"
   ]
  },
  {
   "cell_type": "code",
   "execution_count": 0,
   "metadata": {
    "application/vnd.databricks.v1+cell": {
     "cellMetadata": {},
     "inputWidgets": {},
     "nuid": "2ca0bc29-e46c-4cff-9e41-d6ca66058ee5",
     "showTitle": false,
     "title": ""
    }
   },
   "outputs": [],
   "source": [
    "import seaborn as sns\n",
    "sns.boxplot(data= df['l.amount'])\n",
    "plt.show()"
   ]
  },
  {
   "cell_type": "code",
   "execution_count": 0,
   "metadata": {
    "application/vnd.databricks.v1+cell": {
     "cellMetadata": {},
     "inputWidgets": {},
     "nuid": "5380e2ff-a793-49b7-aa31-72955900c4d4",
     "showTitle": false,
     "title": ""
    }
   },
   "outputs": [],
   "source": [
    "df['l.amount'].hist(bins=50)\n",
    "plt.show()"
   ]
  },
  {
   "cell_type": "markdown",
   "metadata": {
    "application/vnd.databricks.v1+cell": {
     "cellMetadata": {},
     "inputWidgets": {},
     "nuid": "fbb39d29-e0c0-4ff2-b761-351380cd3fe3",
     "showTitle": false,
     "title": ""
    }
   },
   "source": [
    "- payments"
   ]
  },
  {
   "cell_type": "markdown",
   "metadata": {
    "application/vnd.databricks.v1+cell": {
     "cellMetadata": {},
     "inputWidgets": {},
     "nuid": "9d32d103-fba8-477d-bd79-6f7d40bd2a3b",
     "showTitle": false,
     "title": ""
    }
   },
   "source": [
    "- media"
   ]
  },
  {
   "cell_type": "code",
   "execution_count": 0,
   "metadata": {
    "application/vnd.databricks.v1+cell": {
     "cellMetadata": {},
     "inputWidgets": {},
     "nuid": "09b89cb3-0b72-493e-b521-2c6b1985f3ec",
     "showTitle": false,
     "title": ""
    }
   },
   "outputs": [],
   "source": [
    "df['l.payments'].mean()"
   ]
  },
  {
   "cell_type": "markdown",
   "metadata": {
    "application/vnd.databricks.v1+cell": {
     "cellMetadata": {},
     "inputWidgets": {},
     "nuid": "6ae66e0b-b5e0-4447-b31f-894d3cced67f",
     "showTitle": false,
     "title": ""
    }
   },
   "source": [
    "- mediana"
   ]
  },
  {
   "cell_type": "code",
   "execution_count": 0,
   "metadata": {
    "application/vnd.databricks.v1+cell": {
     "cellMetadata": {},
     "inputWidgets": {},
     "nuid": "9048d6ff-ebfc-4fe2-b263-31c3a2b40ff0",
     "showTitle": false,
     "title": ""
    }
   },
   "outputs": [],
   "source": [
    "df['l.payments'].median()"
   ]
  },
  {
   "cell_type": "markdown",
   "metadata": {
    "application/vnd.databricks.v1+cell": {
     "cellMetadata": {},
     "inputWidgets": {},
     "nuid": "38687c08-8229-4080-abaa-dd01a74c175f",
     "showTitle": false,
     "title": ""
    }
   },
   "source": [
    "- moda"
   ]
  },
  {
   "cell_type": "code",
   "execution_count": 0,
   "metadata": {
    "application/vnd.databricks.v1+cell": {
     "cellMetadata": {},
     "inputWidgets": {},
     "nuid": "19435532-4121-4b71-97d0-834f1b36a102",
     "showTitle": false,
     "title": ""
    }
   },
   "outputs": [],
   "source": [
    "df['l.payments'].mode()"
   ]
  },
  {
   "cell_type": "code",
   "execution_count": 0,
   "metadata": {
    "application/vnd.databricks.v1+cell": {
     "cellMetadata": {},
     "inputWidgets": {},
     "nuid": "0d6f3780-cd7c-4f58-aca7-754775bdc1f5",
     "showTitle": false,
     "title": ""
    }
   },
   "outputs": [],
   "source": [
    "max=df['l.payments'].max()"
   ]
  },
  {
   "cell_type": "code",
   "execution_count": 0,
   "metadata": {
    "application/vnd.databricks.v1+cell": {
     "cellMetadata": {},
     "inputWidgets": {},
     "nuid": "92846798-5c29-4325-989c-06897baf50ad",
     "showTitle": false,
     "title": ""
    }
   },
   "outputs": [],
   "source": [
    "min=df['l.payments'].min()"
   ]
  },
  {
   "cell_type": "code",
   "execution_count": 0,
   "metadata": {
    "application/vnd.databricks.v1+cell": {
     "cellMetadata": {},
     "inputWidgets": {},
     "nuid": "3a52ae64-fc11-434f-abe8-c025fb5c9b82",
     "showTitle": false,
     "title": ""
    }
   },
   "outputs": [],
   "source": [
    "rango2 = max - min"
   ]
  },
  {
   "cell_type": "code",
   "execution_count": 0,
   "metadata": {
    "application/vnd.databricks.v1+cell": {
     "cellMetadata": {},
     "inputWidgets": {},
     "nuid": "bd0c163f-3a05-4d2b-aa2c-fa37a2b39d40",
     "showTitle": false,
     "title": ""
    }
   },
   "outputs": [],
   "source": [
    "rango2"
   ]
  },
  {
   "cell_type": "markdown",
   "metadata": {
    "application/vnd.databricks.v1+cell": {
     "cellMetadata": {},
     "inputWidgets": {},
     "nuid": "348b0457-a81b-454a-a28b-3b50c2f7612c",
     "showTitle": false,
     "title": ""
    }
   },
   "source": [
    "- cuartiles"
   ]
  },
  {
   "cell_type": "code",
   "execution_count": 0,
   "metadata": {
    "application/vnd.databricks.v1+cell": {
     "cellMetadata": {},
     "inputWidgets": {},
     "nuid": "0ab998f4-8903-4ec5-8b1b-4faeaae4c237",
     "showTitle": false,
     "title": ""
    }
   },
   "outputs": [],
   "source": [
    "q1, q3 = np.percentile(df['l.payments'], [25,75])"
   ]
  },
  {
   "cell_type": "code",
   "execution_count": 0,
   "metadata": {
    "application/vnd.databricks.v1+cell": {
     "cellMetadata": {},
     "inputWidgets": {},
     "nuid": "5f152bd4-badd-4f41-b39c-4ef3af1881e7",
     "showTitle": false,
     "title": ""
    }
   },
   "outputs": [],
   "source": [
    "q1"
   ]
  },
  {
   "cell_type": "code",
   "execution_count": 0,
   "metadata": {
    "application/vnd.databricks.v1+cell": {
     "cellMetadata": {},
     "inputWidgets": {},
     "nuid": "4041b200-9e5f-4076-86be-e2ab363e57d3",
     "showTitle": false,
     "title": ""
    }
   },
   "outputs": [],
   "source": [
    "q3"
   ]
  },
  {
   "cell_type": "markdown",
   "metadata": {
    "application/vnd.databricks.v1+cell": {
     "cellMetadata": {},
     "inputWidgets": {},
     "nuid": "5b7cc520-d481-4748-b9b5-a926e73b04b4",
     "showTitle": false,
     "title": ""
    }
   },
   "source": [
    "- rango intercuartilico"
   ]
  },
  {
   "cell_type": "code",
   "execution_count": 0,
   "metadata": {
    "application/vnd.databricks.v1+cell": {
     "cellMetadata": {},
     "inputWidgets": {},
     "nuid": "abd62773-f881-4687-b973-c23c6fbc1a23",
     "showTitle": false,
     "title": ""
    }
   },
   "outputs": [],
   "source": [
    "RIC = q3-q1"
   ]
  },
  {
   "cell_type": "code",
   "execution_count": 0,
   "metadata": {
    "application/vnd.databricks.v1+cell": {
     "cellMetadata": {},
     "inputWidgets": {},
     "nuid": "9caa77b4-7e88-45bf-b627-67cb9f83330c",
     "showTitle": false,
     "title": ""
    }
   },
   "outputs": [],
   "source": [
    "RIC"
   ]
  },
  {
   "cell_type": "markdown",
   "metadata": {
    "application/vnd.databricks.v1+cell": {
     "cellMetadata": {},
     "inputWidgets": {},
     "nuid": "a74bffb5-32ac-4ab3-8755-97eac674941f",
     "showTitle": false,
     "title": ""
    }
   },
   "source": [
    "\n",
    "- varianza"
   ]
  },
  {
   "cell_type": "code",
   "execution_count": 0,
   "metadata": {
    "application/vnd.databricks.v1+cell": {
     "cellMetadata": {},
     "inputWidgets": {},
     "nuid": "58830238-5339-442d-9176-35e111c9680d",
     "showTitle": false,
     "title": ""
    }
   },
   "outputs": [],
   "source": [
    "df['l.payments'].var()"
   ]
  },
  {
   "cell_type": "markdown",
   "metadata": {
    "application/vnd.databricks.v1+cell": {
     "cellMetadata": {},
     "inputWidgets": {},
     "nuid": "0a5aca97-f594-4fb1-aeb2-4e16f32d7fdf",
     "showTitle": false,
     "title": ""
    }
   },
   "source": [
    "- desviacion estandar"
   ]
  },
  {
   "cell_type": "code",
   "execution_count": 0,
   "metadata": {
    "application/vnd.databricks.v1+cell": {
     "cellMetadata": {},
     "inputWidgets": {},
     "nuid": "38080a67-1a6a-4d65-9482-0b39f0a36d2a",
     "showTitle": false,
     "title": ""
    }
   },
   "outputs": [],
   "source": [
    "df['l.payments'].std()"
   ]
  },
  {
   "cell_type": "markdown",
   "metadata": {
    "application/vnd.databricks.v1+cell": {
     "cellMetadata": {},
     "inputWidgets": {},
     "nuid": "edcefe61-46fa-4bbd-bf13-95b7ab126fee",
     "showTitle": false,
     "title": ""
    }
   },
   "source": [
    "- grafico Box Plot"
   ]
  },
  {
   "cell_type": "code",
   "execution_count": 0,
   "metadata": {
    "application/vnd.databricks.v1+cell": {
     "cellMetadata": {},
     "inputWidgets": {},
     "nuid": "2f5e5b52-a903-4400-8a3c-1c68f7a25126",
     "showTitle": false,
     "title": ""
    }
   },
   "outputs": [],
   "source": [
    "df.boxplot('l.payments')\n",
    "plt.show()"
   ]
  },
  {
   "cell_type": "code",
   "execution_count": 0,
   "metadata": {
    "application/vnd.databricks.v1+cell": {
     "cellMetadata": {},
     "inputWidgets": {},
     "nuid": "559ccfb1-609e-4374-bb08-9183ad889e82",
     "showTitle": false,
     "title": ""
    }
   },
   "outputs": [],
   "source": [
    "sns.boxplot(data= df['l.payments'])\n",
    "plt.show()"
   ]
  },
  {
   "cell_type": "code",
   "execution_count": 0,
   "metadata": {
    "application/vnd.databricks.v1+cell": {
     "cellMetadata": {},
     "inputWidgets": {},
     "nuid": "b13d4388-a5ed-4fc9-9017-3fe8bf277aa2",
     "showTitle": false,
     "title": ""
    }
   },
   "outputs": [],
   "source": [
    "df['l.payments'].hist(bins=50)\n",
    "plt.show()"
   ]
  },
  {
   "cell_type": "markdown",
   "metadata": {
    "application/vnd.databricks.v1+cell": {
     "cellMetadata": {},
     "inputWidgets": {},
     "nuid": "0a3c5340-ffaa-41b3-b3f5-f670d0aee890",
     "showTitle": false,
     "title": ""
    }
   },
   "source": [
    "### Graficas para las variables Cualitativas"
   ]
  },
  {
   "cell_type": "markdown",
   "metadata": {
    "application/vnd.databricks.v1+cell": {
     "cellMetadata": {},
     "inputWidgets": {},
     "nuid": "849ccbd2-8a83-4979-b844-b76c9a4f5f88",
     "showTitle": false,
     "title": ""
    }
   },
   "source": [
    "- staus"
   ]
  },
  {
   "cell_type": "code",
   "execution_count": 0,
   "metadata": {
    "application/vnd.databricks.v1+cell": {
     "cellMetadata": {},
     "inputWidgets": {},
     "nuid": "09d79c10-6c9e-474e-a691-561489801d66",
     "showTitle": false,
     "title": ""
    }
   },
   "outputs": [],
   "source": [
    "status_agrupado = df.groupby('l.status').size()"
   ]
  },
  {
   "cell_type": "code",
   "execution_count": 0,
   "metadata": {
    "application/vnd.databricks.v1+cell": {
     "cellMetadata": {},
     "inputWidgets": {},
     "nuid": "2da40d0c-5778-413f-bc42-520ae78bad20",
     "showTitle": false,
     "title": ""
    }
   },
   "outputs": [],
   "source": [
    "status_agrupado"
   ]
  },
  {
   "cell_type": "code",
   "execution_count": 0,
   "metadata": {
    "application/vnd.databricks.v1+cell": {
     "cellMetadata": {},
     "inputWidgets": {},
     "nuid": "31aee025-0a9d-467c-b2dd-c07a61de8f25",
     "showTitle": false,
     "title": ""
    }
   },
   "outputs": [],
   "source": [
    "status_agrupado.plot.bar('l.status')\n",
    "plt.show()"
   ]
  },
  {
   "cell_type": "markdown",
   "metadata": {
    "application/vnd.databricks.v1+cell": {
     "cellMetadata": {},
     "inputWidgets": {},
     "nuid": "ae7e2e44-5811-41e0-bf0e-0dcf0d917890",
     "showTitle": false,
     "title": ""
    }
   },
   "source": [
    "- frequency"
   ]
  },
  {
   "cell_type": "code",
   "execution_count": 0,
   "metadata": {
    "application/vnd.databricks.v1+cell": {
     "cellMetadata": {},
     "inputWidgets": {},
     "nuid": "cbe0ee31-8eb5-458d-b567-3604508e9ef9",
     "showTitle": false,
     "title": ""
    }
   },
   "outputs": [],
   "source": [
    "frequency_agrupado = df.groupby('a.frequency').size()"
   ]
  },
  {
   "cell_type": "code",
   "execution_count": 0,
   "metadata": {
    "application/vnd.databricks.v1+cell": {
     "cellMetadata": {},
     "inputWidgets": {},
     "nuid": "e9111146-988b-48b6-a863-5f32713bd21f",
     "showTitle": false,
     "title": ""
    }
   },
   "outputs": [],
   "source": [
    "frequency_agrupado"
   ]
  },
  {
   "cell_type": "code",
   "execution_count": 0,
   "metadata": {
    "application/vnd.databricks.v1+cell": {
     "cellMetadata": {},
     "inputWidgets": {},
     "nuid": "23a0e205-9ddb-4ca3-89f4-80905b332282",
     "showTitle": false,
     "title": ""
    }
   },
   "outputs": [],
   "source": [
    "frequency_agrupado.plot.bar('a.frequency')\n",
    "plt.show()"
   ]
  },
  {
   "cell_type": "markdown",
   "metadata": {
    "application/vnd.databricks.v1+cell": {
     "cellMetadata": {},
     "inputWidgets": {},
     "nuid": "49ea01d1-3232-465c-a468-9a4f553875ef",
     "showTitle": false,
     "title": ""
    }
   },
   "source": [
    "- type"
   ]
  },
  {
   "cell_type": "code",
   "execution_count": 0,
   "metadata": {
    "application/vnd.databricks.v1+cell": {
     "cellMetadata": {},
     "inputWidgets": {},
     "nuid": "c77234eb-a833-4d08-a959-e527a3373d87",
     "showTitle": false,
     "title": ""
    }
   },
   "outputs": [],
   "source": [
    "type_agrupado = df.groupby('d.type').size()"
   ]
  },
  {
   "cell_type": "code",
   "execution_count": 0,
   "metadata": {
    "application/vnd.databricks.v1+cell": {
     "cellMetadata": {},
     "inputWidgets": {},
     "nuid": "b85406f0-04d7-49ba-89cf-c2d9b4ffcf58",
     "showTitle": false,
     "title": ""
    }
   },
   "outputs": [],
   "source": [
    "type_agrupado"
   ]
  },
  {
   "cell_type": "code",
   "execution_count": 0,
   "metadata": {
    "application/vnd.databricks.v1+cell": {
     "cellMetadata": {},
     "inputWidgets": {},
     "nuid": "ace040a5-147d-4e9f-aa7e-0b0dfb5b22e3",
     "showTitle": false,
     "title": ""
    }
   },
   "outputs": [],
   "source": [
    "type_agrupado.plot.bar('d.type')\n",
    "plt.show()"
   ]
  },
  {
   "cell_type": "code",
   "execution_count": 0,
   "metadata": {
    "application/vnd.databricks.v1+cell": {
     "cellMetadata": {},
     "inputWidgets": {},
     "nuid": "abd97179-9a6f-4eba-8024-834dba626751",
     "showTitle": false,
     "title": ""
    }
   },
   "outputs": [],
   "source": [
    "pd.plotting.scatter_matrix(df[['l.amount','l.payments']], alpha=0.9)\n",
    "plt.show()"
   ]
  },
  {
   "cell_type": "code",
   "execution_count": 0,
   "metadata": {
    "application/vnd.databricks.v1+cell": {
     "cellMetadata": {},
     "inputWidgets": {},
     "nuid": "01ed04b9-a3ae-49ad-843c-ba6ac190a6b7",
     "showTitle": false,
     "title": ""
    }
   },
   "outputs": [],
   "source": [
    "sns.scatterplot(data = df, x = 'l.amount', y = 'l.payments')\n",
    "plt.show()"
   ]
  },
  {
   "cell_type": "code",
   "execution_count": 0,
   "metadata": {
    "application/vnd.databricks.v1+cell": {
     "cellMetadata": {},
     "inputWidgets": {},
     "nuid": "f5e5863e-3e0a-4cb2-b6cf-7272c75543a2",
     "showTitle": false,
     "title": ""
    }
   },
   "outputs": [],
   "source": [
    "corr_df = df[['l.amount', 'l.payments']].corr(method='pearson')\n",
    "\n",
    "plt.figure(figsize=(10, 10))\n",
    "sns.heatmap(corr_df, annot=True)\n",
    "plt.show()"
   ]
  },
  {
   "cell_type": "markdown",
   "metadata": {
    "application/vnd.databricks.v1+cell": {
     "cellMetadata": {},
     "inputWidgets": {},
     "nuid": "85990bac-95e0-4e37-a659-57adeef97010",
     "showTitle": false,
     "title": ""
    }
   },
   "source": [
    "## Analisis bivariado entre variables categóricas"
   ]
  },
  {
   "cell_type": "code",
   "execution_count": 0,
   "metadata": {
    "application/vnd.databricks.v1+cell": {
     "cellMetadata": {},
     "inputWidgets": {},
     "nuid": "6b8a86f5-1903-49cc-b614-162e769d743e",
     "showTitle": false,
     "title": ""
    },
    "scrolled": true
   },
   "outputs": [],
   "source": [
    "df.groupby(['l.status','a.frequency']).agg({'l.amount':np.mean})"
   ]
  },
  {
   "cell_type": "markdown",
   "metadata": {
    "application/vnd.databricks.v1+cell": {
     "cellMetadata": {},
     "inputWidgets": {},
     "nuid": "9b71c2a1-8dac-4ba3-a25b-9f56a2434b84",
     "showTitle": false,
     "title": ""
    }
   },
   "source": [
    "## transformaciones one-hot encoding"
   ]
  },
  {
   "cell_type": "code",
   "execution_count": 0,
   "metadata": {
    "application/vnd.databricks.v1+cell": {
     "cellMetadata": {},
     "inputWidgets": {},
     "nuid": "bc86055b-bf5c-4afe-93db-5496f47c6ee1",
     "showTitle": false,
     "title": ""
    }
   },
   "outputs": [],
   "source": [
    "df.columns"
   ]
  },
  {
   "cell_type": "code",
   "execution_count": 0,
   "metadata": {
    "application/vnd.databricks.v1+cell": {
     "cellMetadata": {},
     "inputWidgets": {},
     "nuid": "2af63f09-5e0a-4ed6-88c2-ba6bcb7da065",
     "showTitle": false,
     "title": ""
    }
   },
   "outputs": [],
   "source": [
    "features = [ 'd.type', 'a.frequency', 'l.amount', 'l.payments']"
   ]
  },
  {
   "cell_type": "code",
   "execution_count": 0,
   "metadata": {
    "application/vnd.databricks.v1+cell": {
     "cellMetadata": {},
     "inputWidgets": {},
     "nuid": "2381f751-ff8e-4d8a-a942-caf7a49f02e1",
     "showTitle": false,
     "title": ""
    },
    "scrolled": true
   },
   "outputs": [],
   "source": [
    "dummies = pd.get_dummies(df[features])\n",
    "df = pd.concat([df.drop(features, axis=1), dummies], axis=1)\n",
    "df.head()"
   ]
  },
  {
   "cell_type": "markdown",
   "metadata": {
    "application/vnd.databricks.v1+cell": {
     "cellMetadata": {},
     "inputWidgets": {},
     "nuid": "b92c9341-75a9-40c5-b8d6-4b7d920f16d6",
     "showTitle": false,
     "title": ""
    }
   },
   "source": [
    "## tratamiento de valores atipicos"
   ]
  },
  {
   "cell_type": "code",
   "execution_count": 0,
   "metadata": {
    "application/vnd.databricks.v1+cell": {
     "cellMetadata": {},
     "inputWidgets": {},
     "nuid": "cfbe462e-b572-418e-80dc-ad91fc995e50",
     "showTitle": false,
     "title": ""
    }
   },
   "outputs": [],
   "source": [
    "df.shape"
   ]
  },
  {
   "cell_type": "markdown",
   "metadata": {
    "application/vnd.databricks.v1+cell": {
     "cellMetadata": {},
     "inputWidgets": {},
     "nuid": "ea15f9eb-245f-4b11-9d6c-0accd0d3bb5a",
     "showTitle": false,
     "title": ""
    }
   },
   "source": [
    "Existen valores atipicos que fueron borrados por el procedimiento\n",
    "\n",
    "Eliminación por rango intercuartileo\n",
    "\n",
    "IQR = Q3 - Q1\n",
    "\n",
    "LI = Q1 - 1.5 * (IQR)\n",
    "\n",
    "LS = Q3 + 1.5 * (IQR)"
   ]
  },
  {
   "cell_type": "code",
   "execution_count": 0,
   "metadata": {
    "application/vnd.databricks.v1+cell": {
     "cellMetadata": {},
     "inputWidgets": {},
     "nuid": "0bd9dcd7-6310-44fa-ab78-5ddb19cdf3e3",
     "showTitle": false,
     "title": ""
    }
   },
   "outputs": [],
   "source": [
    "base = df[['l.amount','l.payments']]"
   ]
  },
  {
   "cell_type": "code",
   "execution_count": 0,
   "metadata": {
    "application/vnd.databricks.v1+cell": {
     "cellMetadata": {},
     "inputWidgets": {},
     "nuid": "a7a49f98-2fa8-4ed0-8058-2f779be85bd5",
     "showTitle": false,
     "title": ""
    }
   },
   "outputs": [],
   "source": [
    "base"
   ]
  },
  {
   "cell_type": "code",
   "execution_count": 0,
   "metadata": {
    "application/vnd.databricks.v1+cell": {
     "cellMetadata": {},
     "inputWidgets": {},
     "nuid": "b5a3fc7d-9f5c-47df-a4bf-429004b249ac",
     "showTitle": false,
     "title": ""
    }
   },
   "outputs": [],
   "source": [
    "Q1 = base.quantile(q=0.25)"
   ]
  },
  {
   "cell_type": "code",
   "execution_count": 0,
   "metadata": {
    "application/vnd.databricks.v1+cell": {
     "cellMetadata": {},
     "inputWidgets": {},
     "nuid": "b54fd2f9-f4d1-4355-9df3-937e5d5e534b",
     "showTitle": false,
     "title": ""
    }
   },
   "outputs": [],
   "source": [
    "Q1"
   ]
  },
  {
   "cell_type": "code",
   "execution_count": 0,
   "metadata": {
    "application/vnd.databricks.v1+cell": {
     "cellMetadata": {},
     "inputWidgets": {},
     "nuid": "855eb4ba-b71b-4a98-8476-18692d5ffcf1",
     "showTitle": false,
     "title": ""
    }
   },
   "outputs": [],
   "source": [
    "Q3 = base.quantile(q=0.75)"
   ]
  },
  {
   "cell_type": "code",
   "execution_count": 0,
   "metadata": {
    "application/vnd.databricks.v1+cell": {
     "cellMetadata": {},
     "inputWidgets": {},
     "nuid": "62b36b64-8dc0-4584-9e7a-b6abe51b26e4",
     "showTitle": false,
     "title": ""
    }
   },
   "outputs": [],
   "source": [
    "Q3"
   ]
  },
  {
   "cell_type": "code",
   "execution_count": 0,
   "metadata": {
    "application/vnd.databricks.v1+cell": {
     "cellMetadata": {},
     "inputWidgets": {},
     "nuid": "4ea27331-6708-4ae4-a044-334bfe7e2aa5",
     "showTitle": false,
     "title": ""
    }
   },
   "outputs": [],
   "source": [
    "import scipy.stats as stats\n",
    "IQR = base.apply(stats.iqr)"
   ]
  },
  {
   "cell_type": "code",
   "execution_count": 0,
   "metadata": {
    "application/vnd.databricks.v1+cell": {
     "cellMetadata": {},
     "inputWidgets": {},
     "nuid": "0ac39ea9-8b64-40d3-93d9-2f732c5fae36",
     "showTitle": false,
     "title": ""
    }
   },
   "outputs": [],
   "source": [
    "IQR"
   ]
  },
  {
   "cell_type": "code",
   "execution_count": 0,
   "metadata": {
    "application/vnd.databricks.v1+cell": {
     "cellMetadata": {},
     "inputWidgets": {},
     "nuid": "53267ac7-cfb1-4838-aa06-b85065271511",
     "showTitle": false,
     "title": ""
    }
   },
   "outputs": [],
   "source": [
    "df_berka_limpio = base [~ ((base <(Q1-1.5 * IQR)) | (base > (Q3 + 1.5 * IQR))).any (axis = 1)]"
   ]
  },
  {
   "cell_type": "code",
   "execution_count": 0,
   "metadata": {
    "application/vnd.databricks.v1+cell": {
     "cellMetadata": {},
     "inputWidgets": {},
     "nuid": "8dcd9212-323d-49c6-a1fb-03926a3c0929",
     "showTitle": false,
     "title": ""
    }
   },
   "outputs": [],
   "source": [
    "df_berka_limpio"
   ]
  },
  {
   "cell_type": "markdown",
   "metadata": {
    "application/vnd.databricks.v1+cell": {
     "cellMetadata": {},
     "inputWidgets": {},
     "nuid": "a2a153bf-09c4-40d3-9559-2b777ada9122",
     "showTitle": false,
     "title": ""
    }
   },
   "source": [
    "## Tratamiento de valores nulos"
   ]
  },
  {
   "cell_type": "code",
   "execution_count": 0,
   "metadata": {
    "application/vnd.databricks.v1+cell": {
     "cellMetadata": {},
     "inputWidgets": {},
     "nuid": "ccb19990-8089-4da0-a10f-892cbeea1a5c",
     "showTitle": false,
     "title": ""
    }
   },
   "outputs": [],
   "source": [
    "def grafica_variable_nulos(variable):\n",
    "    df[variable].hist()\n",
    "    plt.show()"
   ]
  },
  {
   "cell_type": "code",
   "execution_count": 0,
   "metadata": {
    "application/vnd.databricks.v1+cell": {
     "cellMetadata": {},
     "inputWidgets": {},
     "nuid": "2fd74bc2-e166-4c49-aafb-1ed698242a3e",
     "showTitle": false,
     "title": ""
    }
   },
   "outputs": [],
   "source": [
    "df.isnull().sum()"
   ]
  },
  {
   "cell_type": "markdown",
   "metadata": {
    "application/vnd.databricks.v1+cell": {
     "cellMetadata": {},
     "inputWidgets": {},
     "nuid": "23cb07a0-705f-4a52-9c34-c9ff8af9fc8d",
     "showTitle": false,
     "title": ""
    }
   },
   "source": [
    "## Z-score\n",
    "\n",
    "\n",
    "Version individual "
   ]
  },
  {
   "cell_type": "code",
   "execution_count": 0,
   "metadata": {
    "application/vnd.databricks.v1+cell": {
     "cellMetadata": {},
     "inputWidgets": {},
     "nuid": "c2a72694-09f5-4685-b5e6-4c33b6e4c79f",
     "showTitle": false,
     "title": ""
    }
   },
   "outputs": [],
   "source": [
    "def grafica_variable(variable):\n",
    "    df[variable].hist()\n",
    "    plt.show()"
   ]
  },
  {
   "cell_type": "code",
   "execution_count": 0,
   "metadata": {
    "application/vnd.databricks.v1+cell": {
     "cellMetadata": {},
     "inputWidgets": {},
     "nuid": "4db2419f-764b-4878-a9ea-f05b1ede9bc4",
     "showTitle": false,
     "title": ""
    }
   },
   "outputs": [],
   "source": [
    "grafica_variable(['l.amount','l.payments'])"
   ]
  },
  {
   "cell_type": "code",
   "execution_count": 0,
   "metadata": {
    "application/vnd.databricks.v1+cell": {
     "cellMetadata": {},
     "inputWidgets": {},
     "nuid": "ddcfd5d4-2ce6-4696-9873-495992f3b41e",
     "showTitle": false,
     "title": ""
    }
   },
   "outputs": [],
   "source": [
    "df[\"l.amount\"] = (df[\"l.amount\"] - df[\"l.amount\"].mean()) /        \\\n",
    "                             (df[\"l.amount\"].std())\n",
    "df[['l.amount']].head()"
   ]
  },
  {
   "cell_type": "code",
   "execution_count": 0,
   "metadata": {
    "application/vnd.databricks.v1+cell": {
     "cellMetadata": {},
     "inputWidgets": {},
     "nuid": "69441890-db10-41ab-be69-281867a854a4",
     "showTitle": false,
     "title": ""
    }
   },
   "outputs": [],
   "source": [
    "grafica_variable(['l.amount'])"
   ]
  },
  {
   "cell_type": "markdown",
   "metadata": {
    "application/vnd.databricks.v1+cell": {
     "cellMetadata": {},
     "inputWidgets": {},
     "nuid": "36915ae1-474b-4068-9160-9f97bc95a62c",
     "showTitle": false,
     "title": ""
    }
   },
   "source": [
    "- payments"
   ]
  },
  {
   "cell_type": "code",
   "execution_count": 0,
   "metadata": {
    "application/vnd.databricks.v1+cell": {
     "cellMetadata": {},
     "inputWidgets": {},
     "nuid": "4192dad8-643a-4fd3-831a-d5674c26102c",
     "showTitle": false,
     "title": ""
    }
   },
   "outputs": [],
   "source": [
    "df[\"l.payments\"] = (df[\"l.payments\"] - df[\"l.payments\"].mean()) /        \\\n",
    "                             (df[\"l.payments\"].std())\n",
    "df[['l.payments']].head()"
   ]
  },
  {
   "cell_type": "code",
   "execution_count": 0,
   "metadata": {
    "application/vnd.databricks.v1+cell": {
     "cellMetadata": {},
     "inputWidgets": {},
     "nuid": "cc04e83f-d0c6-4ef3-9aa0-833d7a234c55",
     "showTitle": false,
     "title": ""
    }
   },
   "outputs": [],
   "source": [
    "grafica_variable(['l.payments'])"
   ]
  },
  {
   "cell_type": "code",
   "execution_count": 0,
   "metadata": {
    "application/vnd.databricks.v1+cell": {
     "cellMetadata": {},
     "inputWidgets": {},
     "nuid": "c2a68a5b-81cb-4ecb-96a5-9612dfa82ffa",
     "showTitle": false,
     "title": ""
    }
   },
   "outputs": [],
   "source": [
    "df"
   ]
  },
  {
   "cell_type": "markdown",
   "metadata": {
    "application/vnd.databricks.v1+cell": {
     "cellMetadata": {},
     "inputWidgets": {},
     "nuid": "ff8f4776-bd9f-4271-b75d-8761861ff72e",
     "showTitle": false,
     "title": ""
    }
   },
   "source": [
    "## exportamos nuestra tabla minable para llevarlo a databricks"
   ]
  },
  {
   "cell_type": "code",
   "execution_count": 0,
   "metadata": {
    "application/vnd.databricks.v1+cell": {
     "cellMetadata": {},
     "inputWidgets": {},
     "nuid": "d80b4f21-3570-4408-b0d8-c9b8b9d487fa",
     "showTitle": false,
     "title": ""
    }
   },
   "outputs": [],
   "source": [
    "df.to_csv(\"tablaminable.csv\", index=False)"
   ]
  },
  {
   "cell_type": "code",
   "execution_count": 0,
   "metadata": {
    "application/vnd.databricks.v1+cell": {
     "cellMetadata": {},
     "inputWidgets": {},
     "nuid": "e7c3cbb0-1787-4dbe-9935-4476c84b4099",
     "showTitle": false,
     "title": ""
    }
   },
   "outputs": [],
   "source": []
  }
 ],
 "metadata": {
  "application/vnd.databricks.v1+notebook": {
   "dashboards": [],
   "language": "python",
   "notebookMetadata": {},
   "notebookName": "Preparación de datos",
   "widgets": {}
  },
  "kernelspec": {
   "display_name": "Python 3",
   "language": "python",
   "name": "python3"
  },
  "language_info": {
   "codemirror_mode": {
    "name": "ipython",
    "version": 3
   },
   "file_extension": ".py",
   "mimetype": "text/x-python",
   "name": "python",
   "nbconvert_exporter": "python",
   "pygments_lexer": "ipython3",
   "version": "3.7.4"
  }
 },
 "nbformat": 4,
 "nbformat_minor": 0
}
