{
 "cells": [
  {
   "cell_type": "code",
   "execution_count": 0,
   "metadata": {
    "application/vnd.databricks.v1+cell": {
     "cellMetadata": {
      "byteLimit": 2048000,
      "rowLimit": 10000
     },
     "inputWidgets": {},
     "nuid": "900826df-18e7-41d7-9dc8-f6599477032a",
     "showTitle": false,
     "title": ""
    },
    "colab": {
     "base_uri": "https://localhost:8080/"
    },
    "id": "pk2gpo1plQUJ",
    "outputId": "10a6f265-9b5e-47a6-cefb-89ede3ef0e0c"
   },
   "outputs": [],
   "source": [
    "import pandas as pd\n",
    "from sklearn.model_selection import train_test_split\n",
    "from sklearn.neighbors import KNeighborsClassifier\n",
    "from sklearn.metrics import accuracy_score, f1_score, roc_auc_score\n",
    "import numpy as np\n",
    "import matplotlib.pyplot as plt\n",
    "\n",
    "data = pd.read_csv('tablaminable.csv')\n",
    "data = data.drop('c.client_id', axis=1)\n",
    "X = data.drop('l.status', axis=1)\n",
    "y = data['l.status']\n",
    "\n",
    "X_train, X_test, y_train, y_test = train_test_split(X, y, test_size=0.2, random_state=42)\n",
    "\n",
    "knn = KNeighborsClassifier(n_neighbors=10)\n",
    "knn.fit(X_train, y_train)\n",
    "\n",
    "y_pred = knn.predict(X_test)\n",
    "\n",
    "accuracy = accuracy_score(y_test, y_pred)\n",
    "print(f\"Precisión del modelo KNN: {accuracy}\")\n",
    "\n",
    "f1 = f1_score(y_test, y_pred, average='micro')\n",
    "print(f\"F1-score del modelo KNN: {f1}\")\n",
    "\n",
    "# Calcular el AUC para clases múltiples (One-vs-Rest)\n",
    "auc_scores_ovr = roc_auc_score(y_test, knn.predict_proba(X_test), multi_class='ovr')\n",
    "\n",
    "print(f\"AUC One-vs-Rest: {auc_scores_ovr}\")\n"
   ]
  },
  {
   "cell_type": "code",
   "execution_count": 0,
   "metadata": {
    "application/vnd.databricks.v1+cell": {
     "cellMetadata": {
      "byteLimit": 2048000,
      "rowLimit": 10000
     },
     "inputWidgets": {},
     "nuid": "0e2c8104-81fa-41e4-9e3f-f16367218c53",
     "showTitle": false,
     "title": ""
    },
    "colab": {
     "base_uri": "https://localhost:8080/"
    },
    "id": "4TscEFjelvNY",
    "outputId": "7b76122c-eadb-46d8-8e45-6eae3eda2051"
   },
   "outputs": [],
   "source": [
    "import pandas as pd\n",
    "from sklearn.model_selection import train_test_split\n",
    "from sklearn.metrics import roc_curve, roc_auc_score, auc\n",
    "from sklearn.tree import DecisionTreeClassifier\n",
    "import matplotlib.pyplot as plt\n",
    "from sklearn.metrics import f1_score\n",
    "\n",
    "data = pd.read_csv('tablaminable.csv')\n",
    "data = data.drop('c.client_id', axis=1)\n",
    "X = data.drop('l.status', axis=1)\n",
    "y = data['l.status']\n",
    "\n",
    "X_train, X_test, y_train, y_test = train_test_split(X, y, test_size=0.2, random_state=42)\n",
    "\n",
    "tree_classifier = DecisionTreeClassifier()\n",
    "tree_classifier.fit(X_train, y_train)\n",
    "\n",
    "y_pred = tree_classifier.predict(X_test)\n",
    "\n",
    "accuracy = accuracy_score(y_test, y_pred)\n",
    "print(f\"Precisión del modelo Decision Tree: {accuracy}\")\n",
    "\n",
    "f1 = f1_score(y_test, y_pred, average='micro')\n",
    "print(f\"F1-score del modelo Decision Tree: {f1}\")\n",
    "\n",
    "# Calcular el AUC para clases múltiples (One-vs-Rest)\n",
    "auc_scores_ovr = roc_auc_score(y_test, tree_classifier.predict_proba(X_test), multi_class='ovr')\n",
    "\n",
    "print(f\"AUC One-vs-Rest: {auc_scores_ovr}\")\n",
    "\n"
   ]
  },
  {
   "cell_type": "code",
   "execution_count": 0,
   "metadata": {
    "application/vnd.databricks.v1+cell": {
     "cellMetadata": {
      "byteLimit": 2048000,
      "rowLimit": 10000
     },
     "inputWidgets": {},
     "nuid": "fd8ed81f-da4a-47ec-b3ed-64f8ac13ebad",
     "showTitle": false,
     "title": ""
    },
    "colab": {
     "base_uri": "https://localhost:8080/"
    },
    "id": "AiJdz8BWmQwt",
    "outputId": "3150c10e-abae-4ffc-f679-1cdc2c2f0c6f"
   },
   "outputs": [],
   "source": [
    "import pandas as pd\n",
    "from sklearn.model_selection import train_test_split\n",
    "from sklearn.metrics import roc_curve, roc_auc_score, auc\n",
    "from sklearn.linear_model import LogisticRegression\n",
    "import matplotlib.pyplot as plt\n",
    "from sklearn.metrics import f1_score\n",
    "\n",
    "data = pd.read_csv('tablaminable.csv')\n",
    "data = data.drop('c.client_id', axis=1)\n",
    "X = data.drop('l.status', axis=1)\n",
    "y = data['l.status']\n",
    "\n",
    "X_train, X_test, y_train, y_test = train_test_split(X, y, test_size=0.2, random_state=42)\n",
    "\n",
    "logistic_regression = LogisticRegression()\n",
    "logistic_regression.fit(X_train, y_train)\n",
    "\n",
    "y_pred = logistic_regression.predict(X_test)\n",
    "\n",
    "accuracy = accuracy_score(y_test, y_pred)\n",
    "print(f\"Precisión del modelo de Regresión Logística: {accuracy}\")\n",
    "\n",
    "f1 = f1_score(y_test, y_pred, average='micro')\n",
    "print(f\"F1-score del modelo Regresión Logística: {f1}\")\n",
    "\n",
    "# Calcular el AUC para clases múltiples (One-vs-Rest)\n",
    "auc_scores_ovr = roc_auc_score(y_test, logistic_regression.predict_proba(X_test), multi_class='ovr')\n",
    "\n",
    "print(f\"AUC One-vs-Rest: {auc_scores_ovr}\")\n"
   ]
  },
  {
   "cell_type": "code",
   "execution_count": 0,
   "metadata": {
    "application/vnd.databricks.v1+cell": {
     "cellMetadata": {},
     "inputWidgets": {},
     "nuid": "91e139fb-86b9-42b1-9203-17010985a663",
     "showTitle": false,
     "title": ""
    },
    "id": "hh5WXJ2umja4"
   },
   "outputs": [],
   "source": []
  }
 ],
 "metadata": {
  "application/vnd.databricks.v1+notebook": {
   "dashboards": [],
   "language": "python",
   "notebookMetadata": {
    "pythonIndentUnit": 4
   },
   "notebookName": "Entremiento_de_modelo",
   "widgets": {}
  },
  "colab": {
   "provenance": []
  },
  "kernelspec": {
   "display_name": "Python 3",
   "name": "python3"
  },
  "language_info": {
   "name": "python"
  }
 },
 "nbformat": 4,
 "nbformat_minor": 0
}
